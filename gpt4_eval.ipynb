{
 "cells": [
  {
   "cell_type": "code",
   "execution_count": null,
   "metadata": {},
   "outputs": [],
   "source": []
  },
  {
   "cell_type": "code",
   "execution_count": null,
   "metadata": {},
   "outputs": [
    {
     "ename": "",
     "evalue": "",
     "output_type": "error",
     "traceback": [
      "\u001b[1;31mThe kernel failed to start as the Python Environment 'direct-preference-optimization' is no longer available. Consider selecting another kernel or refreshing the list of Python Environments."
     ]
    }
   ],
   "source": [
    "import openai\n",
    "import os\n",
    "from datasets import load_dataset"
   ]
  },
  {
   "cell_type": "code",
   "execution_count": null,
   "metadata": {},
   "outputs": [],
   "source": [
    "# Load all helpfulness/harmless subsets (share the same schema)\n",
    "datasets_all = load_dataset(\"Anthropic/hh-rlhf\")\n",
    "\n",
    "# Load one of the harmless subsets\n",
    "harmless_base = load_dataset(\"Anthropic/hh-rlhf\", data_dir=\"harmless-base\")\n",
    "\n",
    "helpful_base = load_dataset(\"Anthropic/hh-rlhf\", data_dir=\"helpful-base\")\n",
    "\n",
    "helpful_online = load_dataset(\"Anthropic/hh-rlhf\", data_dir=\"helpful-online\")\n",
    "\n",
    "helpful_rejection_sampled = load_dataset(\"Anthropic/hh-rlhf\", data_dir=\"helpful-rejection-sampled\")\n",
    "\n",
    "# Load the red teaming subset\n",
    "redteam_dataset = load_dataset(\"Anthropic/hh-rlhf\", data_dir=\"red-team-attempts\")"
   ]
  },
  {
   "cell_type": "code",
   "execution_count": null,
   "metadata": {},
   "outputs": [],
   "source": [
    "# os.environ[\"OPENAI_API_KEY\"] = '...'"
   ]
  },
  {
   "cell_type": "code",
   "execution_count": null,
   "metadata": {},
   "outputs": [],
   "source": [
    "openai.api_key = os.getenv(\"OPENAI_API_KEY\")\n",
    "# openai.organization = \"org-NkeGuBcBfGG6MfX5AcsDWbwm\""
   ]
  },
  {
   "cell_type": "code",
   "execution_count": null,
   "metadata": {},
   "outputs": [],
   "source": [
    "openai.Model.list()"
   ]
  },
  {
   "cell_type": "code",
   "execution_count": null,
   "metadata": {},
   "outputs": [],
   "source": [
    "GET https://api.openai.com/v1/models "
   ]
  },
  {
   "cell_type": "code",
   "execution_count": null,
   "metadata": {},
   "outputs": [],
   "source": [
    "openai.Model.retrieve(\"gpt-4\")"
   ]
  },
  {
   "cell_type": "code",
   "execution_count": null,
   "metadata": {},
   "outputs": [],
   "source": [
    "f\"For the following query to a chatbot, which response is more helpful? \\\n",
    "            Query: {user_query} \\\n",
    "            Response A: \\\n",
    "            {either the test method or baseline} \\\n",
    "            Response B: \\\n",
    "            {the other response} \\\n",
    "            FIRST provide a one-sentence comparison of the two responses and explain \\\n",
    "            which you feel is more helpful. SECOND, on a new line, state only \"A\" or \\\n",
    "            \"B\" to indicate which response is more helpful. Your response should use \\\n",
    "            the format: \\\n",
    "            Comparison: <one-sentence comparison and explanation> \\\n",
    "            More helpful: <\"A\" or \"B\">\""
   ]
  },
  {
   "cell_type": "code",
   "execution_count": null,
   "metadata": {},
   "outputs": [],
   "source": [
    "# openai.ChatCompletion.create(\n",
    "model=\"gpt-4\",\n",
    "  messages=[\n",
    "        {\"role\": \"system\", \"content\": \"You are a helpful assistant.\"},\n",
    "        {\"role\": \"user\", \"content\": prompt},\n",
    "    ]\n",
    ") "
   ]
  },
  {
   "cell_type": "code",
   "execution_count": null,
   "metadata": {},
   "outputs": [],
   "source": []
  },
  {
   "cell_type": "code",
   "execution_count": null,
   "metadata": {},
   "outputs": [],
   "source": []
  },
  {
   "cell_type": "code",
   "execution_count": null,
   "metadata": {},
   "outputs": [],
   "source": []
  },
  {
   "cell_type": "code",
   "execution_count": null,
   "metadata": {},
   "outputs": [],
   "source": []
  }
 ],
 "metadata": {
  "kernelspec": {
   "display_name": "direct-preference-optimization",
   "language": "python",
   "name": "python3"
  },
  "language_info": {
   "name": "python",
   "version": "3.11.4"
  },
  "orig_nbformat": 4
 },
 "nbformat": 4,
 "nbformat_minor": 2
}
